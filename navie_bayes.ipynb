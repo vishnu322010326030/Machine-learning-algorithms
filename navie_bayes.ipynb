{
 "cells": [
  {
   "cell_type": "code",
   "execution_count": 1,
   "id": "ac55bb1d",
   "metadata": {},
   "outputs": [],
   "source": [
    "from sklearn.datasets import load_iris\n",
    "from sklearn.model_selection import train_test_split\n",
    "from sklearn.naive_bayes import GaussianNB\n",
    "import pandas as pd\n",
    "from sklearn.metrics import precision_score, recall_score, f1_score, accuracy_score\n",
    "import matplotlib.pyplot as plt\n",
    "from sklearn.svm import SVC\n",
    "from sklearn.metrics import classification_report"
   ]
  },
  {
   "cell_type": "code",
   "execution_count": 5,
   "id": "3a4b508e",
   "metadata": {},
   "outputs": [
    {
     "ename": "NameError",
     "evalue": "name 'X' is not defined",
     "output_type": "error",
     "traceback": [
      "\u001b[1;31m---------------------------------------------------------------------------\u001b[0m",
      "\u001b[1;31mNameError\u001b[0m                                 Traceback (most recent call last)",
      "Input \u001b[1;32mIn [5]\u001b[0m, in \u001b[0;36m<cell line: 2>\u001b[1;34m()\u001b[0m\n\u001b[0;32m      1\u001b[0m \u001b[38;5;28;01mfrom\u001b[39;00m \u001b[38;5;21;01msklearn\u001b[39;00m\u001b[38;5;21;01m.\u001b[39;00m\u001b[38;5;21;01mmodel_selection\u001b[39;00m \u001b[38;5;28;01mimport\u001b[39;00m train_test_split\n\u001b[1;32m----> 2\u001b[0m X_train, X_test, y_train, y_test \u001b[38;5;241m=\u001b[39m train_test_split(\u001b[43mX\u001b[49m, y, test_size\u001b[38;5;241m=\u001b[39m\u001b[38;5;241m0.30\u001b[39m, random_state\u001b[38;5;241m=\u001b[39m\u001b[38;5;241m1\u001b[39m, stratify\u001b[38;5;241m=\u001b[39my)\n",
      "\u001b[1;31mNameError\u001b[0m: name 'X' is not defined"
     ]
    }
   ],
   "source": [
    "from sklearn.model_selection import train_test_split\n",
    "X_train, X_test, y_train, y_test = train_test_split(X, y, test_size=0.30, random_state=1, stratify=y)"
   ]
  },
  {
   "cell_type": "code",
   "execution_count": 6,
   "id": "def38f07",
   "metadata": {},
   "outputs": [],
   "source": [
    "X, y = load_iris(return_X_y=True)"
   ]
  },
  {
   "cell_type": "code",
   "execution_count": 7,
   "id": "d18b84f0",
   "metadata": {},
   "outputs": [
    {
     "data": {
      "text/plain": [
       "array([[5.1, 3.5, 1.4, 0.2],\n",
       "       [4.9, 3. , 1.4, 0.2],\n",
       "       [4.7, 3.2, 1.3, 0.2],\n",
       "       [4.6, 3.1, 1.5, 0.2],\n",
       "       [5. , 3.6, 1.4, 0.2]])"
      ]
     },
     "execution_count": 7,
     "metadata": {},
     "output_type": "execute_result"
    }
   ],
   "source": [
    "X[:5]"
   ]
  },
  {
   "cell_type": "code",
   "execution_count": 8,
   "id": "44887544",
   "metadata": {},
   "outputs": [
    {
     "data": {
      "text/plain": [
       "['sepal length (cm)',\n",
       " 'sepal width (cm)',\n",
       " 'petal length (cm)',\n",
       " 'petal width (cm)']"
      ]
     },
     "execution_count": 8,
     "metadata": {},
     "output_type": "execute_result"
    }
   ],
   "source": [
    "X_desc = load_iris().feature_names\n",
    "X_desc"
   ]
  },
  {
   "cell_type": "code",
   "execution_count": 9,
   "id": "488922f0",
   "metadata": {},
   "outputs": [
    {
     "ename": "NameError",
     "evalue": "name 'y_desc' is not defined",
     "output_type": "error",
     "traceback": [
      "\u001b[1;31m---------------------------------------------------------------------------\u001b[0m",
      "\u001b[1;31mNameError\u001b[0m                                 Traceback (most recent call last)",
      "Input \u001b[1;32mIn [9]\u001b[0m, in \u001b[0;36m<cell line: 1>\u001b[1;34m()\u001b[0m\n\u001b[1;32m----> 1\u001b[0m X_desc,\u001b[43my_desc\u001b[49m\n",
      "\u001b[1;31mNameError\u001b[0m: name 'y_desc' is not defined"
     ]
    }
   ],
   "source": [
    "X_desc,y_desc"
   ]
  },
  {
   "cell_type": "code",
   "execution_count": 10,
   "id": "6a5596dd",
   "metadata": {},
   "outputs": [
    {
     "data": {
      "text/plain": [
       "array(['setosa', 'versicolor', 'virginica'], dtype='<U10')"
      ]
     },
     "execution_count": 10,
     "metadata": {},
     "output_type": "execute_result"
    }
   ],
   "source": [
    "y_desc = load_iris().target_names\n",
    "y_desc[:]\n"
   ]
  },
  {
   "cell_type": "code",
   "execution_count": 11,
   "id": "39088bbf",
   "metadata": {},
   "outputs": [],
   "source": [
    "X_train, X_test, y_train, y_test = train_test_split(X,\n",
    "                                                    y, \n",
    "                                                    test_size=0.5, \n",
    "                                                    random_state=0)"
   ]
  },
  {
   "cell_type": "code",
   "execution_count": 12,
   "id": "796720fe",
   "metadata": {
    "scrolled": true
   },
   "outputs": [
    {
     "data": {
      "text/plain": [
       "array([0, 0, 0, 0, 0, 0, 0, 0, 0, 0, 0, 0, 0, 0, 0, 0, 0, 0, 0, 0, 0, 0,\n",
       "       0, 0, 0, 0, 0, 0, 0, 0, 0, 0, 0, 0, 0, 0, 0, 0, 0, 0, 0, 0, 0, 0,\n",
       "       0, 0, 0, 0, 0, 0, 1, 1, 1, 1, 1, 1, 1, 1, 1, 1, 1, 1, 1, 1, 1, 1,\n",
       "       1, 1, 1, 1, 1, 1, 1, 1, 1, 1, 1, 1, 1, 1, 1, 1, 1, 1, 1, 1, 1, 1,\n",
       "       1, 1, 1, 1, 1, 1, 1, 1, 1, 1, 1, 1, 2, 2, 2, 2, 2, 2, 2, 2, 2, 2,\n",
       "       2, 2, 2, 2, 2, 2, 2, 2, 2, 2, 2, 2, 2, 2, 2, 2, 2, 2, 2, 2, 2, 2,\n",
       "       2, 2, 2, 2, 2, 2, 2, 2, 2, 2, 2, 2, 2, 2, 2, 2, 2, 2])"
      ]
     },
     "execution_count": 12,
     "metadata": {},
     "output_type": "execute_result"
    }
   ],
   "source": [
    "y[:]"
   ]
  },
  {
   "cell_type": "code",
   "execution_count": 13,
   "id": "0c59f6b4",
   "metadata": {},
   "outputs": [
    {
     "data": {
      "text/plain": [
       "(array([[4.6, 3.1, 1.5, 0.2],\n",
       "        [5.9, 3. , 5.1, 1.8],\n",
       "        [5.1, 2.5, 3. , 1.1],\n",
       "        [4.6, 3.4, 1.4, 0.3],\n",
       "        [6.2, 2.2, 4.5, 1.5],\n",
       "        [7.2, 3.6, 6.1, 2.5],\n",
       "        [5.7, 2.9, 4.2, 1.3],\n",
       "        [4.8, 3. , 1.4, 0.1],\n",
       "        [7.1, 3. , 5.9, 2.1],\n",
       "        [6.9, 3.2, 5.7, 2.3],\n",
       "        [6.5, 3. , 5.8, 2.2],\n",
       "        [6.4, 2.8, 5.6, 2.1],\n",
       "        [5.1, 3.8, 1.6, 0.2],\n",
       "        [4.8, 3.4, 1.6, 0.2],\n",
       "        [6.5, 3.2, 5.1, 2. ],\n",
       "        [6.7, 3.3, 5.7, 2.1],\n",
       "        [4.5, 2.3, 1.3, 0.3],\n",
       "        [6.2, 3.4, 5.4, 2.3],\n",
       "        [4.9, 3. , 1.4, 0.2],\n",
       "        [5.7, 2.5, 5. , 2. ],\n",
       "        [6.9, 3.1, 5.4, 2.1],\n",
       "        [4.4, 3.2, 1.3, 0.2],\n",
       "        [5. , 3.6, 1.4, 0.2],\n",
       "        [7.2, 3. , 5.8, 1.6],\n",
       "        [5.1, 3.5, 1.4, 0.3],\n",
       "        [4.4, 3. , 1.3, 0.2],\n",
       "        [5.4, 3.9, 1.7, 0.4],\n",
       "        [5.5, 2.3, 4. , 1.3],\n",
       "        [6.8, 3.2, 5.9, 2.3],\n",
       "        [7.6, 3. , 6.6, 2.1],\n",
       "        [5.1, 3.5, 1.4, 0.2],\n",
       "        [4.9, 3.1, 1.5, 0.2],\n",
       "        [5.2, 3.4, 1.4, 0.2],\n",
       "        [5.7, 2.8, 4.5, 1.3],\n",
       "        [6.6, 3. , 4.4, 1.4],\n",
       "        [5. , 3.2, 1.2, 0.2],\n",
       "        [5.1, 3.3, 1.7, 0.5],\n",
       "        [6.4, 2.9, 4.3, 1.3],\n",
       "        [5.4, 3.4, 1.5, 0.4],\n",
       "        [7.7, 2.6, 6.9, 2.3],\n",
       "        [4.9, 2.4, 3.3, 1. ],\n",
       "        [7.9, 3.8, 6.4, 2. ],\n",
       "        [6.7, 3.1, 4.4, 1.4],\n",
       "        [5.2, 4.1, 1.5, 0.1],\n",
       "        [6. , 3. , 4.8, 1.8],\n",
       "        [5.8, 4. , 1.2, 0.2],\n",
       "        [7.7, 2.8, 6.7, 2. ],\n",
       "        [5.1, 3.8, 1.5, 0.3],\n",
       "        [4.7, 3.2, 1.6, 0.2],\n",
       "        [7.4, 2.8, 6.1, 1.9],\n",
       "        [5. , 3.3, 1.4, 0.2],\n",
       "        [6.3, 3.4, 5.6, 2.4],\n",
       "        [5.7, 2.8, 4.1, 1.3],\n",
       "        [5.8, 2.7, 3.9, 1.2],\n",
       "        [5.7, 2.6, 3.5, 1. ],\n",
       "        [6.4, 3.2, 5.3, 2.3],\n",
       "        [6.7, 3. , 5.2, 2.3],\n",
       "        [6.3, 2.5, 4.9, 1.5],\n",
       "        [6.7, 3. , 5. , 1.7],\n",
       "        [5. , 3. , 1.6, 0.2],\n",
       "        [5.5, 2.4, 3.7, 1. ],\n",
       "        [6.7, 3.1, 5.6, 2.4],\n",
       "        [5.8, 2.7, 5.1, 1.9],\n",
       "        [5.1, 3.4, 1.5, 0.2],\n",
       "        [6.6, 2.9, 4.6, 1.3],\n",
       "        [5.6, 3. , 4.1, 1.3],\n",
       "        [5.9, 3.2, 4.8, 1.8],\n",
       "        [6.3, 2.3, 4.4, 1.3],\n",
       "        [5.5, 3.5, 1.3, 0.2],\n",
       "        [5.1, 3.7, 1.5, 0.4],\n",
       "        [4.9, 3.1, 1.5, 0.1],\n",
       "        [6.3, 2.9, 5.6, 1.8],\n",
       "        [5.8, 2.7, 4.1, 1. ],\n",
       "        [7.7, 3.8, 6.7, 2.2],\n",
       "        [4.6, 3.2, 1.4, 0.2]]),\n",
       " array([0, 2, 1, 0, 1, 2, 1, 0, 2, 2, 2, 2, 0, 0, 2, 2, 0, 2, 0, 2, 2, 0,\n",
       "        0, 2, 0, 0, 0, 1, 2, 2, 0, 0, 0, 1, 1, 0, 0, 1, 0, 2, 1, 2, 1, 0,\n",
       "        2, 0, 2, 0, 0, 2, 0, 2, 1, 1, 1, 2, 2, 1, 1, 0, 1, 2, 2, 0, 1, 1,\n",
       "        1, 1, 0, 0, 0, 2, 1, 2, 0]))"
      ]
     },
     "execution_count": 13,
     "metadata": {},
     "output_type": "execute_result"
    }
   ],
   "source": [
    "X_train, y_train"
   ]
  },
  {
   "cell_type": "code",
   "execution_count": 14,
   "id": "ad11dff9",
   "metadata": {},
   "outputs": [],
   "source": [
    "gnb = GaussianNB()"
   ]
  },
  {
   "cell_type": "code",
   "execution_count": 15,
   "id": "cb9211c8",
   "metadata": {},
   "outputs": [],
   "source": [
    "gnb.fit(X_train,y_train)\n",
    "svc = SVC(kernel='linear', C=10.0, random_state=1)"
   ]
  },
  {
   "cell_type": "code",
   "execution_count": 16,
   "id": "ffc3ca94",
   "metadata": {},
   "outputs": [
    {
     "data": {
      "text/plain": [
       "SVC(C=10.0, kernel='linear', random_state=1)"
      ]
     },
     "execution_count": 16,
     "metadata": {},
     "output_type": "execute_result"
    }
   ],
   "source": [
    "svc.fit(X_train, y_train)"
   ]
  },
  {
   "cell_type": "code",
   "execution_count": 17,
   "id": "a2b92197",
   "metadata": {},
   "outputs": [],
   "source": [
    "y_pred = gnb.fit(X_train, y_train).predict(X_test)"
   ]
  },
  {
   "cell_type": "code",
   "execution_count": 18,
   "id": "6df82d22",
   "metadata": {},
   "outputs": [
    {
     "name": "stdout",
     "output_type": "stream",
     "text": [
      "total number of instances: 75, incorrect guesses: 4\n"
     ]
    }
   ],
   "source": [
    "print(f\"total number of instances: {X_test.shape[0]}, incorrect guesses: { (y_test != y_pred).sum()}\")"
   ]
  },
  {
   "cell_type": "code",
   "execution_count": 19,
   "id": "1f98b6cb",
   "metadata": {},
   "outputs": [
    {
     "name": "stdout",
     "output_type": "stream",
     "text": [
      "              precision    recall  f1-score   support\n",
      "\n",
      "           0       1.00      1.00      1.00        21\n",
      "           1       0.88      1.00      0.94        30\n",
      "           2       1.00      0.83      0.91        24\n",
      "\n",
      "    accuracy                           0.95        75\n",
      "   macro avg       0.96      0.94      0.95        75\n",
      "weighted avg       0.95      0.95      0.95        75\n",
      "\n"
     ]
    }
   ],
   "source": [
    "print(classification_report(y_test, y_pred))"
   ]
  },
  {
   "cell_type": "code",
   "execution_count": null,
   "id": "36f72964",
   "metadata": {},
   "outputs": [],
   "source": []
  }
 ],
 "metadata": {
  "kernelspec": {
   "display_name": "Python 3 (ipykernel)",
   "language": "python",
   "name": "python3"
  },
  "language_info": {
   "codemirror_mode": {
    "name": "ipython",
    "version": 3
   },
   "file_extension": ".py",
   "mimetype": "text/x-python",
   "name": "python",
   "nbconvert_exporter": "python",
   "pygments_lexer": "ipython3",
   "version": "3.9.12"
  }
 },
 "nbformat": 4,
 "nbformat_minor": 5
}
